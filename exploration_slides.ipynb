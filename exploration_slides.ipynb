{
 "cells": [
  {
   "cell_type": "code",
   "execution_count": 1,
   "id": "statistical-personality",
   "metadata": {
    "slideshow": {
     "slide_type": "skip"
    }
   },
   "outputs": [],
   "source": [
    "import pandas as pd\n",
    "import numpy as np\n",
    "import matplotlib.pyplot as plt\n",
    "import seaborn as sb\n",
    "\n",
    "from input_data import INPUT_DATA\n",
    "from create_dataset import create_datastructure\n",
    "\n",
    "%matplotlib inline"
   ]
  },
  {
   "cell_type": "markdown",
   "id": "proved-angola",
   "metadata": {
    "slideshow": {
     "slide_type": "slide"
    }
   },
   "source": [
    "## Dataset Overview\n",
    "\n",
    "This dataset features the Event data about users using the guide. Each column value except the UserId represents the number of times the user triggered the event.\n",
    "\n",
    "For reference, this dataset includes the following events:\n",
    "- `GuideDownload` which we record every time someone downloads a guide\n",
    "- `GuideSession` which we record every time a user opens up a guide on their phone\n",
    "- `ConnectionRequested` which we record every time a user sends a connection request to another user\n",
    "- `PhotoUpload` which we record every time a guide user uploads a photo to a guide\n",
    "- `UserId` users of the guide\n"
   ]
  },
  {
   "cell_type": "markdown",
   "id": "tired-arrival",
   "metadata": {
    "slideshow": {
     "slide_type": "slide"
    }
   },
   "source": [
    "### Gather Data"
   ]
  },
  {
   "cell_type": "code",
   "execution_count": 2,
   "id": "split-stress",
   "metadata": {
    "slideshow": {
     "slide_type": "skip"
    }
   },
   "outputs": [],
   "source": [
    "# get data\n",
    "data = create_datastructure(INPUT_DATA)"
   ]
  },
  {
   "cell_type": "code",
   "execution_count": 3,
   "id": "composed-japan",
   "metadata": {
    "slideshow": {
     "slide_type": "skip"
    }
   },
   "outputs": [
    {
     "data": {
      "text/html": [
       "<div>\n",
       "<style scoped>\n",
       "    .dataframe tbody tr th:only-of-type {\n",
       "        vertical-align: middle;\n",
       "    }\n",
       "\n",
       "    .dataframe tbody tr th {\n",
       "        vertical-align: top;\n",
       "    }\n",
       "\n",
       "    .dataframe thead th {\n",
       "        text-align: right;\n",
       "    }\n",
       "</style>\n",
       "<table border=\"1\" class=\"dataframe\">\n",
       "  <thead>\n",
       "    <tr style=\"text-align: right;\">\n",
       "      <th></th>\n",
       "      <th>GuideSession</th>\n",
       "      <th>GuideDownload</th>\n",
       "      <th>ConnectionRequested</th>\n",
       "      <th>PhotoUpload</th>\n",
       "    </tr>\n",
       "  </thead>\n",
       "  <tbody>\n",
       "    <tr>\n",
       "      <th>757</th>\n",
       "      <td>22.0</td>\n",
       "      <td>2.0</td>\n",
       "      <td>NaN</td>\n",
       "      <td>NaN</td>\n",
       "    </tr>\n",
       "    <tr>\n",
       "      <th>194</th>\n",
       "      <td>5.0</td>\n",
       "      <td>1.0</td>\n",
       "      <td>1.0</td>\n",
       "      <td>14.0</td>\n",
       "    </tr>\n",
       "    <tr>\n",
       "      <th>1656</th>\n",
       "      <td>32.0</td>\n",
       "      <td>1.0</td>\n",
       "      <td>NaN</td>\n",
       "      <td>NaN</td>\n",
       "    </tr>\n",
       "    <tr>\n",
       "      <th>563</th>\n",
       "      <td>11.0</td>\n",
       "      <td>1.0</td>\n",
       "      <td>NaN</td>\n",
       "      <td>2.0</td>\n",
       "    </tr>\n",
       "    <tr>\n",
       "      <th>1276</th>\n",
       "      <td>13.0</td>\n",
       "      <td>1.0</td>\n",
       "      <td>NaN</td>\n",
       "      <td>NaN</td>\n",
       "    </tr>\n",
       "  </tbody>\n",
       "</table>\n",
       "</div>"
      ],
      "text/plain": [
       "      GuideSession  GuideDownload  ConnectionRequested  PhotoUpload\n",
       "757           22.0            2.0                  NaN          NaN\n",
       "194            5.0            1.0                  1.0         14.0\n",
       "1656          32.0            1.0                  NaN          NaN\n",
       "563           11.0            1.0                  NaN          2.0\n",
       "1276          13.0            1.0                  NaN          NaN"
      ]
     },
     "execution_count": 3,
     "metadata": {},
     "output_type": "execute_result"
    }
   ],
   "source": [
    "# create a dataframe\n",
    "df = pd.DataFrame.from_dict(data, orient='index')\n",
    "df.head(5)"
   ]
  },
  {
   "cell_type": "markdown",
   "id": "criminal-layout",
   "metadata": {
    "slideshow": {
     "slide_type": "skip"
    }
   },
   "source": [
    "### Assess Data"
   ]
  },
  {
   "cell_type": "code",
   "execution_count": 4,
   "id": "accessible-gardening",
   "metadata": {
    "slideshow": {
     "slide_type": "skip"
    }
   },
   "outputs": [
    {
     "name": "stdout",
     "output_type": "stream",
     "text": [
      "<class 'pandas.core.frame.DataFrame'>\n",
      "Int64Index: 2500 entries, 757 to 1789\n",
      "Data columns (total 4 columns):\n",
      " #   Column               Non-Null Count  Dtype  \n",
      "---  ------               --------------  -----  \n",
      " 0   GuideSession         2489 non-null   float64\n",
      " 1   GuideDownload        2488 non-null   float64\n",
      " 2   ConnectionRequested  510 non-null    float64\n",
      " 3   PhotoUpload          676 non-null    float64\n",
      "dtypes: float64(4)\n",
      "memory usage: 97.7 KB\n"
     ]
    }
   ],
   "source": [
    "df.info()"
   ]
  },
  {
   "cell_type": "code",
   "execution_count": 5,
   "id": "psychological-sharp",
   "metadata": {
    "slideshow": {
     "slide_type": "skip"
    }
   },
   "outputs": [],
   "source": [
    "df = df.reset_index()"
   ]
  },
  {
   "cell_type": "code",
   "execution_count": 6,
   "id": "focused-oxford",
   "metadata": {
    "slideshow": {
     "slide_type": "slide"
    }
   },
   "outputs": [
    {
     "data": {
      "text/html": [
       "<div>\n",
       "<style scoped>\n",
       "    .dataframe tbody tr th:only-of-type {\n",
       "        vertical-align: middle;\n",
       "    }\n",
       "\n",
       "    .dataframe tbody tr th {\n",
       "        vertical-align: top;\n",
       "    }\n",
       "\n",
       "    .dataframe thead th {\n",
       "        text-align: right;\n",
       "    }\n",
       "</style>\n",
       "<table border=\"1\" class=\"dataframe\">\n",
       "  <thead>\n",
       "    <tr style=\"text-align: right;\">\n",
       "      <th></th>\n",
       "      <th>index</th>\n",
       "      <th>GuideSession</th>\n",
       "      <th>GuideDownload</th>\n",
       "      <th>ConnectionRequested</th>\n",
       "      <th>PhotoUpload</th>\n",
       "    </tr>\n",
       "  </thead>\n",
       "  <tbody>\n",
       "    <tr>\n",
       "      <th>0</th>\n",
       "      <td>757</td>\n",
       "      <td>22.0</td>\n",
       "      <td>2.0</td>\n",
       "      <td>NaN</td>\n",
       "      <td>NaN</td>\n",
       "    </tr>\n",
       "    <tr>\n",
       "      <th>1</th>\n",
       "      <td>194</td>\n",
       "      <td>5.0</td>\n",
       "      <td>1.0</td>\n",
       "      <td>1.0</td>\n",
       "      <td>14.0</td>\n",
       "    </tr>\n",
       "    <tr>\n",
       "      <th>2</th>\n",
       "      <td>1656</td>\n",
       "      <td>32.0</td>\n",
       "      <td>1.0</td>\n",
       "      <td>NaN</td>\n",
       "      <td>NaN</td>\n",
       "    </tr>\n",
       "    <tr>\n",
       "      <th>3</th>\n",
       "      <td>563</td>\n",
       "      <td>11.0</td>\n",
       "      <td>1.0</td>\n",
       "      <td>NaN</td>\n",
       "      <td>2.0</td>\n",
       "    </tr>\n",
       "    <tr>\n",
       "      <th>4</th>\n",
       "      <td>1276</td>\n",
       "      <td>13.0</td>\n",
       "      <td>1.0</td>\n",
       "      <td>NaN</td>\n",
       "      <td>NaN</td>\n",
       "    </tr>\n",
       "  </tbody>\n",
       "</table>\n",
       "</div>"
      ],
      "text/plain": [
       "   index  GuideSession  GuideDownload  ConnectionRequested  PhotoUpload\n",
       "0    757          22.0            2.0                  NaN          NaN\n",
       "1    194           5.0            1.0                  1.0         14.0\n",
       "2   1656          32.0            1.0                  NaN          NaN\n",
       "3    563          11.0            1.0                  NaN          2.0\n",
       "4   1276          13.0            1.0                  NaN          NaN"
      ]
     },
     "execution_count": 6,
     "metadata": {},
     "output_type": "execute_result"
    }
   ],
   "source": [
    "df.head()"
   ]
  },
  {
   "cell_type": "code",
   "execution_count": 7,
   "id": "macro-transportation",
   "metadata": {
    "slideshow": {
     "slide_type": "slide"
    }
   },
   "outputs": [
    {
     "data": {
      "text/html": [
       "<div>\n",
       "<style scoped>\n",
       "    .dataframe tbody tr th:only-of-type {\n",
       "        vertical-align: middle;\n",
       "    }\n",
       "\n",
       "    .dataframe tbody tr th {\n",
       "        vertical-align: top;\n",
       "    }\n",
       "\n",
       "    .dataframe thead th {\n",
       "        text-align: right;\n",
       "    }\n",
       "</style>\n",
       "<table border=\"1\" class=\"dataframe\">\n",
       "  <thead>\n",
       "    <tr style=\"text-align: right;\">\n",
       "      <th></th>\n",
       "      <th>index</th>\n",
       "      <th>GuideSession</th>\n",
       "      <th>GuideDownload</th>\n",
       "      <th>ConnectionRequested</th>\n",
       "      <th>PhotoUpload</th>\n",
       "    </tr>\n",
       "  </thead>\n",
       "  <tbody>\n",
       "    <tr>\n",
       "      <th>count</th>\n",
       "      <td>2500.00000</td>\n",
       "      <td>2489.000000</td>\n",
       "      <td>2488.000000</td>\n",
       "      <td>510.000000</td>\n",
       "      <td>676.000000</td>\n",
       "    </tr>\n",
       "    <tr>\n",
       "      <th>mean</th>\n",
       "      <td>1249.50000</td>\n",
       "      <td>19.746083</td>\n",
       "      <td>1.446141</td>\n",
       "      <td>2.147059</td>\n",
       "      <td>7.423077</td>\n",
       "    </tr>\n",
       "    <tr>\n",
       "      <th>std</th>\n",
       "      <td>721.83216</td>\n",
       "      <td>10.535454</td>\n",
       "      <td>0.782494</td>\n",
       "      <td>1.632173</td>\n",
       "      <td>6.694940</td>\n",
       "    </tr>\n",
       "    <tr>\n",
       "      <th>min</th>\n",
       "      <td>0.00000</td>\n",
       "      <td>1.000000</td>\n",
       "      <td>1.000000</td>\n",
       "      <td>1.000000</td>\n",
       "      <td>1.000000</td>\n",
       "    </tr>\n",
       "    <tr>\n",
       "      <th>25%</th>\n",
       "      <td>624.75000</td>\n",
       "      <td>13.000000</td>\n",
       "      <td>1.000000</td>\n",
       "      <td>1.000000</td>\n",
       "      <td>2.000000</td>\n",
       "    </tr>\n",
       "    <tr>\n",
       "      <th>50%</th>\n",
       "      <td>1249.50000</td>\n",
       "      <td>19.000000</td>\n",
       "      <td>1.000000</td>\n",
       "      <td>2.000000</td>\n",
       "      <td>4.000000</td>\n",
       "    </tr>\n",
       "    <tr>\n",
       "      <th>75%</th>\n",
       "      <td>1874.25000</td>\n",
       "      <td>24.000000</td>\n",
       "      <td>2.000000</td>\n",
       "      <td>3.000000</td>\n",
       "      <td>14.000000</td>\n",
       "    </tr>\n",
       "    <tr>\n",
       "      <th>max</th>\n",
       "      <td>2499.00000</td>\n",
       "      <td>161.000000</td>\n",
       "      <td>6.000000</td>\n",
       "      <td>11.000000</td>\n",
       "      <td>24.000000</td>\n",
       "    </tr>\n",
       "  </tbody>\n",
       "</table>\n",
       "</div>"
      ],
      "text/plain": [
       "            index  GuideSession  GuideDownload  ConnectionRequested  \\\n",
       "count  2500.00000   2489.000000    2488.000000           510.000000   \n",
       "mean   1249.50000     19.746083       1.446141             2.147059   \n",
       "std     721.83216     10.535454       0.782494             1.632173   \n",
       "min       0.00000      1.000000       1.000000             1.000000   \n",
       "25%     624.75000     13.000000       1.000000             1.000000   \n",
       "50%    1249.50000     19.000000       1.000000             2.000000   \n",
       "75%    1874.25000     24.000000       2.000000             3.000000   \n",
       "max    2499.00000    161.000000       6.000000            11.000000   \n",
       "\n",
       "       PhotoUpload  \n",
       "count   676.000000  \n",
       "mean      7.423077  \n",
       "std       6.694940  \n",
       "min       1.000000  \n",
       "25%       2.000000  \n",
       "50%       4.000000  \n",
       "75%      14.000000  \n",
       "max      24.000000  "
      ]
     },
     "execution_count": 7,
     "metadata": {},
     "output_type": "execute_result"
    }
   ],
   "source": [
    "df.describe()"
   ]
  },
  {
   "cell_type": "code",
   "execution_count": 8,
   "id": "modular-operator",
   "metadata": {
    "slideshow": {
     "slide_type": "skip"
    }
   },
   "outputs": [],
   "source": [
    "# rename user id \n",
    "df = df.rename(columns={\"index\": \"UserId\"})"
   ]
  },
  {
   "cell_type": "markdown",
   "id": "classical-bulgarian",
   "metadata": {
    "slideshow": {
     "slide_type": "slide"
    }
   },
   "source": [
    "#### Notes:\n",
    "Our collected data has `2500 rows` and `5 columns`\n",
    "\n",
    "Each column has missing data i.e:\n",
    "- `GuideDownload` 12 records\n",
    "- `GuideSession` 11 records\n",
    "- `ConnectionRequested` 1990 records\n",
    "- `PhotoUpload` 1824 records\n",
    "\n",
    "The values in our interested columns are Float except the UserId column with integer values\n"
   ]
  },
  {
   "cell_type": "markdown",
   "id": "enhanced-jungle",
   "metadata": {
    "slideshow": {
     "slide_type": "skip"
    }
   },
   "source": [
    "### Cleaning Data"
   ]
  },
  {
   "cell_type": "code",
   "execution_count": 9,
   "id": "christian-buying",
   "metadata": {
    "slideshow": {
     "slide_type": "skip"
    }
   },
   "outputs": [],
   "source": [
    "# make a copy of data to be cleaned\n",
    "df_copy = df.copy()"
   ]
  },
  {
   "cell_type": "markdown",
   "id": "crucial-journalist",
   "metadata": {
    "slideshow": {
     "slide_type": "skip"
    }
   },
   "source": [
    "*Issue* NaN Values representing missing values\n",
    "\n",
    "*Solution* Replace missing values with mean of each column"
   ]
  },
  {
   "cell_type": "code",
   "execution_count": 10,
   "id": "fifth-participation",
   "metadata": {
    "slideshow": {
     "slide_type": "skip"
    }
   },
   "outputs": [
    {
     "name": "stdout",
     "output_type": "stream",
     "text": [
      "UserId                 1250.0\n",
      "GuideSession             20.0\n",
      "GuideDownload             1.0\n",
      "ConnectionRequested       2.0\n",
      "PhotoUpload               7.0\n",
      "dtype: float64\n"
     ]
    }
   ],
   "source": [
    "column_means = df_copy.mean().round(0)\n",
    "print(column_means)"
   ]
  },
  {
   "cell_type": "code",
   "execution_count": 11,
   "id": "valid-fantasy",
   "metadata": {
    "slideshow": {
     "slide_type": "skip"
    }
   },
   "outputs": [],
   "source": [
    "df_copy = df_copy.fillna(column_means)"
   ]
  },
  {
   "cell_type": "code",
   "execution_count": 12,
   "id": "prostate-drama",
   "metadata": {
    "slideshow": {
     "slide_type": "skip"
    }
   },
   "outputs": [
    {
     "name": "stdout",
     "output_type": "stream",
     "text": [
      "<class 'pandas.core.frame.DataFrame'>\n",
      "RangeIndex: 2500 entries, 0 to 2499\n",
      "Data columns (total 5 columns):\n",
      " #   Column               Non-Null Count  Dtype  \n",
      "---  ------               --------------  -----  \n",
      " 0   UserId               2500 non-null   int64  \n",
      " 1   GuideSession         2500 non-null   float64\n",
      " 2   GuideDownload        2500 non-null   float64\n",
      " 3   ConnectionRequested  2500 non-null   float64\n",
      " 4   PhotoUpload          2500 non-null   float64\n",
      "dtypes: float64(4), int64(1)\n",
      "memory usage: 97.8 KB\n"
     ]
    }
   ],
   "source": [
    "# test\n",
    "df_copy.info()"
   ]
  },
  {
   "cell_type": "code",
   "execution_count": 13,
   "id": "joint-partner",
   "metadata": {
    "slideshow": {
     "slide_type": "skip"
    }
   },
   "outputs": [
    {
     "data": {
      "text/html": [
       "<div>\n",
       "<style scoped>\n",
       "    .dataframe tbody tr th:only-of-type {\n",
       "        vertical-align: middle;\n",
       "    }\n",
       "\n",
       "    .dataframe tbody tr th {\n",
       "        vertical-align: top;\n",
       "    }\n",
       "\n",
       "    .dataframe thead th {\n",
       "        text-align: right;\n",
       "    }\n",
       "</style>\n",
       "<table border=\"1\" class=\"dataframe\">\n",
       "  <thead>\n",
       "    <tr style=\"text-align: right;\">\n",
       "      <th></th>\n",
       "      <th>UserId</th>\n",
       "      <th>GuideSession</th>\n",
       "      <th>GuideDownload</th>\n",
       "      <th>ConnectionRequested</th>\n",
       "      <th>PhotoUpload</th>\n",
       "    </tr>\n",
       "  </thead>\n",
       "  <tbody>\n",
       "    <tr>\n",
       "      <th>0</th>\n",
       "      <td>757</td>\n",
       "      <td>22.0</td>\n",
       "      <td>2.0</td>\n",
       "      <td>2.0</td>\n",
       "      <td>7.0</td>\n",
       "    </tr>\n",
       "    <tr>\n",
       "      <th>1</th>\n",
       "      <td>194</td>\n",
       "      <td>5.0</td>\n",
       "      <td>1.0</td>\n",
       "      <td>1.0</td>\n",
       "      <td>14.0</td>\n",
       "    </tr>\n",
       "    <tr>\n",
       "      <th>2</th>\n",
       "      <td>1656</td>\n",
       "      <td>32.0</td>\n",
       "      <td>1.0</td>\n",
       "      <td>2.0</td>\n",
       "      <td>7.0</td>\n",
       "    </tr>\n",
       "    <tr>\n",
       "      <th>3</th>\n",
       "      <td>563</td>\n",
       "      <td>11.0</td>\n",
       "      <td>1.0</td>\n",
       "      <td>2.0</td>\n",
       "      <td>2.0</td>\n",
       "    </tr>\n",
       "    <tr>\n",
       "      <th>4</th>\n",
       "      <td>1276</td>\n",
       "      <td>13.0</td>\n",
       "      <td>1.0</td>\n",
       "      <td>2.0</td>\n",
       "      <td>7.0</td>\n",
       "    </tr>\n",
       "  </tbody>\n",
       "</table>\n",
       "</div>"
      ],
      "text/plain": [
       "   UserId  GuideSession  GuideDownload  ConnectionRequested  PhotoUpload\n",
       "0     757          22.0            2.0                  2.0          7.0\n",
       "1     194           5.0            1.0                  1.0         14.0\n",
       "2    1656          32.0            1.0                  2.0          7.0\n",
       "3     563          11.0            1.0                  2.0          2.0\n",
       "4    1276          13.0            1.0                  2.0          7.0"
      ]
     },
     "execution_count": 13,
     "metadata": {},
     "output_type": "execute_result"
    }
   ],
   "source": [
    "df_copy.head()"
   ]
  },
  {
   "cell_type": "code",
   "execution_count": 14,
   "id": "subtle-treasure",
   "metadata": {
    "slideshow": {
     "slide_type": "skip"
    }
   },
   "outputs": [],
   "source": [
    "# make a copy of the clean dataframe\n",
    "df_master = df_copy.copy()"
   ]
  },
  {
   "cell_type": "markdown",
   "id": "aggressive-algorithm",
   "metadata": {
    "slideshow": {
     "slide_type": "skip"
    }
   },
   "source": [
    "### Storing"
   ]
  },
  {
   "cell_type": "code",
   "execution_count": 15,
   "id": "cultural-compound",
   "metadata": {
    "slideshow": {
     "slide_type": "skip"
    }
   },
   "outputs": [],
   "source": [
    "# Store the clean DataFrame in a CSV file with the main one named df_events_master.csv.\n",
    "df_master.to_csv('df_events_master.csv', index= False, encoding='utf-8')"
   ]
  },
  {
   "cell_type": "markdown",
   "id": "behind-fraud",
   "metadata": {
    "slideshow": {
     "slide_type": "slide"
    }
   },
   "source": [
    "### Exploration"
   ]
  },
  {
   "cell_type": "markdown",
   "id": "extraordinary-donna",
   "metadata": {
    "slideshow": {
     "slide_type": "slide"
    }
   },
   "source": [
    "For each analysis, one has to seek to answer certain questions about the data\n",
    "\n",
    "\n",
    "Let's start our exploration by looking at users bucketed by number of times they triggered a `PhotoUpload` event. Is the distribution skewed or symmetric? Is it unimodal or multimodal?"
   ]
  },
  {
   "cell_type": "code",
   "execution_count": 16,
   "id": "aquatic-phase",
   "metadata": {
    "slideshow": {
     "slide_type": "subslide"
    }
   },
   "outputs": [
    {
     "data": {
      "text/plain": [
       "Text(0, 0.5, 'Users')"
      ]
     },
     "execution_count": 16,
     "metadata": {},
     "output_type": "execute_result"
    },
    {
     "data": {
      "image/png": "[encoded data removed]",
      "text/plain": [
       "<Figure size 432x288 with 1 Axes>"
      ]
     },
     "metadata": {
      "needs_background": "light"
     },
     "output_type": "display_data"
    }
   ],
   "source": [
    "# univariate plot of photos uploaded\n",
    "plt.hist(data = df_master , x = 'PhotoUpload');\n",
    "# plt.ylim(0,600)\n",
    "plt.title('Distribution of Photo Upload(s) ')\n",
    "plt.xlabel('Photo Uploads')\n",
    "plt.ylabel('Users')"
   ]
  },
  {
   "cell_type": "markdown",
   "id": "assigned-association",
   "metadata": {
    "slideshow": {
     "slide_type": "notes"
    }
   },
   "source": [
    "The plot shows a fairly right skewed distribution with the majority of guide users uploading a photo 7 times to the guide"
   ]
  },
  {
   "cell_type": "markdown",
   "id": "threaded-receiver",
   "metadata": {
    "slideshow": {
     "slide_type": "notes"
    }
   },
   "source": [
    "We can further extend our analysis to show the relationship between Photos Uploaded to the guide and the guide session"
   ]
  },
  {
   "cell_type": "code",
   "execution_count": 17,
   "id": "written-granny",
   "metadata": {
    "slideshow": {
     "slide_type": "subslide"
    }
   },
   "outputs": [
    {
     "data": {
      "text/plain": [
       "Text(0.5, 0, 'Photo Upload')"
      ]
     },
     "execution_count": 17,
     "metadata": {},
     "output_type": "execute_result"
    },
    {
     "data": {
      "image/png": "[encoded data removed]",
      "text/plain": [
       "<Figure size 864x720 with 1 Axes>"
      ]
     },
     "metadata": {
      "needs_background": "light"
     },
     "output_type": "display_data"
    }
   ],
   "source": [
    "# bivariate plot of photos uploaded vs. guide session\n",
    "plt.figure(figsize = [12, 10])\n",
    "base_color = sb.color_palette()[0]\n",
    "plt.scatter(data = df_master , y = 'GuideSession' , x = 'PhotoUpload')\n",
    "plt.title('Relationship between Guide Session and Photo Upload')\n",
    "plt.xticks(rotation='vertical')\n",
    "plt.ylabel('Guide Session')\n",
    "plt.xlabel('Photo Upload')"
   ]
  },
  {
   "cell_type": "markdown",
   "id": "irish-bonus",
   "metadata": {
    "slideshow": {
     "slide_type": "notes"
    }
   },
   "source": [
    "The plot suggests that users who upload the most photos, open up the guide the longest on their phones"
   ]
  },
  {
   "cell_type": "markdown",
   "id": "neutral-effect",
   "metadata": {
    "slideshow": {
     "slide_type": "notes"
    }
   },
   "source": [
    "Lastly, I would like to explore how PhotoUpload relates to Guide Download. In the previous plots we saw that users that upload the most photos use the guide often so do these users also download the guide often"
   ]
  },
  {
   "cell_type": "code",
   "execution_count": 18,
   "id": "sophisticated-constitution",
   "metadata": {
    "slideshow": {
     "slide_type": "subslide"
    }
   },
   "outputs": [
    {
     "data": {
      "text/plain": [
       "Text(0.5, 1.0, 'Relationship between Guide Download and Photo Upload')"
      ]
     },
     "execution_count": 18,
     "metadata": {},
     "output_type": "execute_result"
    },
    {
     "data": {
      "image/png": "[encoded data removed]",
      "text/plain": [
       "<Figure size 864x720 with 2 Axes>"
      ]
     },
     "metadata": {
      "needs_background": "light"
     },
     "output_type": "display_data"
    }
   ],
   "source": [
    "plt.figure(figsize = [12, 10])\n",
    "bins_x = np.arange(0.5, 10.5+1, 1)\n",
    "bins_y = np.arange(-0.5, 10.5+1, 1)\n",
    "plt.hist2d(data = df_master, y = 'GuideDownload', x = 'PhotoUpload',\n",
    "           bins = [bins_x, bins_y], cmap = 'viridis_r', cmin = 0.5)\n",
    "plt.colorbar()\n",
    "plt.ylabel('GuideDownload')\n",
    "plt.xlabel('PhotoUpload')\n",
    "plt.title('Relationship between Guide Download and Photo Upload')"
   ]
  },
  {
   "cell_type": "markdown",
   "id": "ultimate-bikini",
   "metadata": {
    "slideshow": {
     "slide_type": "notes"
    }
   },
   "source": [
    "The plot suggests that guide downloads are pretty low for users who upload the most photos."
   ]
  },
  {
   "cell_type": "markdown",
   "id": "elementary-approval",
   "metadata": {
    "slideshow": {
     "slide_type": "slide"
    }
   },
   "source": [
    "### Conclusion"
   ]
  },
  {
   "cell_type": "markdown",
   "id": "junior-collapse",
   "metadata": {
    "slideshow": {
     "slide_type": "slide"
    }
   },
   "source": [
    "The highest majority of guide users upload at least 7 photos to the guide. The data also suggested that users who uploading more photos open the guide the most. However, this number did not match for people who download the guide. \n",
    "There should be another factor affecting guide downloads and we can't just rely on photouploads."
   ]
  }
 ],
 "metadata": {
  "celltoolbar": "Slideshow",
  "kernelspec": {
   "display_name": "Python 3",
   "language": "python",
   "name": "python3"
  },
  "language_info": {
   "codemirror_mode": {
    "name": "ipython",
    "version": 3
   },
   "file_extension": ".py",
   "mimetype": "text/x-python",
   "name": "python",
   "nbconvert_exporter": "python",
   "pygments_lexer": "ipython3",
   "version": "3.7.7"
  }
 },
 "nbformat": 4,
 "nbformat_minor": 5
}
