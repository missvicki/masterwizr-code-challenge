{
 "cells": [
  {
   "cell_type": "code",
   "execution_count": null,
   "id": "hearing-tomorrow",
   "metadata": {},
   "outputs": [],
   "source": [
    "import pandas as pd\n",
    "import numpy as np\n",
    "import matplotlib.pyplot as plt\n",
    "import seaborn as sb\n",
    "\n",
    "from input_data import INPUT_DATA\n",
    "from create_dataset import create_datastructure\n",
    "\n",
    "%matplotlib inline"
   ]
  },
  {
   "cell_type": "markdown",
   "id": "australian-purple",
   "metadata": {},
   "source": [
    "### Gather Data"
   ]
  },
  {
   "cell_type": "code",
   "execution_count": null,
   "id": "modular-trader",
   "metadata": {},
   "outputs": [],
   "source": [
    "# get data\n",
    "data = create_datastructure(INPUT_DATA)"
   ]
  },
  {
   "cell_type": "code",
   "execution_count": null,
   "id": "twenty-cholesterol",
   "metadata": {},
   "outputs": [],
   "source": [
    "# create a dataframe\n",
    "df = pd.DataFrame.from_dict(data, orient='index')\n",
    "df.head(5)"
   ]
  },
  {
   "cell_type": "markdown",
   "id": "incomplete-christianity",
   "metadata": {},
   "source": [
    "### Assess Data"
   ]
  },
  {
   "cell_type": "code",
   "execution_count": null,
   "id": "transsexual-process",
   "metadata": {},
   "outputs": [],
   "source": [
    "df.info()"
   ]
  },
  {
   "cell_type": "code",
   "execution_count": null,
   "id": "naked-jacob",
   "metadata": {},
   "outputs": [],
   "source": [
    "df = df.reset_index()"
   ]
  },
  {
   "cell_type": "code",
   "execution_count": null,
   "id": "clean-station",
   "metadata": {},
   "outputs": [],
   "source": [
    "df.head()"
   ]
  },
  {
   "cell_type": "code",
   "execution_count": null,
   "id": "injured-mistake",
   "metadata": {},
   "outputs": [],
   "source": [
    "df.describe()"
   ]
  },
  {
   "cell_type": "code",
   "execution_count": null,
   "id": "asian-aquatic",
   "metadata": {},
   "outputs": [],
   "source": [
    "# rename user id \n",
    "df = df.rename(columns={\"index\": \"UserId\"})"
   ]
  },
  {
   "cell_type": "markdown",
   "id": "found-wildlife",
   "metadata": {},
   "source": [
    "#### Notes:\n",
    "Our collected data has `2500 rows` and `5 columns`\n",
    "\n",
    "Each column has missing data i.e:\n",
    "- `GuideDownload` 12 records\n",
    "- `GuideSession` 11 records\n",
    "- `ConnectionRequested` 1990 records\n",
    "- `PhotoUpload` 1824 records\n",
    "\n",
    "The values in our interested columns are Float except the UserId column with integer values\n"
   ]
  },
  {
   "cell_type": "markdown",
   "id": "refined-growth",
   "metadata": {},
   "source": [
    "### Cleaning Data"
   ]
  },
  {
   "cell_type": "code",
   "execution_count": null,
   "id": "beginning-development",
   "metadata": {},
   "outputs": [],
   "source": [
    "# make a copy of data to be cleaned\n",
    "df_copy = df.copy()"
   ]
  },
  {
   "cell_type": "markdown",
   "id": "conditional-richards",
   "metadata": {},
   "source": [
    "*Issue* NaN Values representing missing values\n",
    "\n",
    "*Solution* Replace missing values with mean of each column"
   ]
  },
  {
   "cell_type": "code",
   "execution_count": null,
   "id": "interesting-earth",
   "metadata": {},
   "outputs": [],
   "source": [
    "column_means = df_copy.mean().round(0)\n",
    "print(column_means)"
   ]
  },
  {
   "cell_type": "code",
   "execution_count": null,
   "id": "caring-drink",
   "metadata": {},
   "outputs": [],
   "source": [
    "df_copy = df_copy.fillna(column_means)"
   ]
  },
  {
   "cell_type": "code",
   "execution_count": null,
   "id": "academic-essay",
   "metadata": {},
   "outputs": [],
   "source": [
    "# test\n",
    "df_copy.info()"
   ]
  },
  {
   "cell_type": "code",
   "execution_count": null,
   "id": "textile-connecticut",
   "metadata": {},
   "outputs": [],
   "source": [
    "df_copy.head()"
   ]
  },
  {
   "cell_type": "code",
   "execution_count": null,
   "id": "stretch-removal",
   "metadata": {},
   "outputs": [],
   "source": [
    "# make a copy of the clean dataframe\n",
    "df_master = df_copy.copy()"
   ]
  },
  {
   "cell_type": "markdown",
   "id": "korean-corps",
   "metadata": {},
   "source": [
    "### Storing"
   ]
  },
  {
   "cell_type": "code",
   "execution_count": null,
   "id": "addressed-coupon",
   "metadata": {},
   "outputs": [],
   "source": [
    "# Store the clean DataFrame in a CSV file with the main one named df_events_master.csv.\n",
    "df_master.to_csv('df_events_master.csv', index= False, encoding='utf-8')"
   ]
  },
  {
   "cell_type": "markdown",
   "id": "warming-appointment",
   "metadata": {},
   "source": [
    "### Exploration"
   ]
  },
  {
   "cell_type": "markdown",
   "id": "reflected-webster",
   "metadata": {},
   "source": [
    "For each analysis, one has to seek to answer certain questions about the data\n",
    "\n",
    "\n",
    "Let's start our exploration by looking at users bucketed by number of times they triggered a `PhotoUpload` event. Is the distribution skewed or symmetric? Is it unimodal or multimodal?"
   ]
  },
  {
   "cell_type": "code",
   "execution_count": null,
   "id": "regulated-wednesday",
   "metadata": {},
   "outputs": [],
   "source": [
    "# univariate plot of photos uploaded\n",
    "plt.hist(data = df_master , x = 'PhotoUpload');\n",
    "# plt.ylim(0,600)\n",
    "plt.title('Distribution of Photo Upload(s) ')\n",
    "plt.xlabel('Photo Uploads')\n",
    "plt.ylabel('Users')"
   ]
  },
  {
   "cell_type": "markdown",
   "id": "visible-seeker",
   "metadata": {},
   "source": [
    "The plot shows a fairly right skewed distribution with the majority of guide users uploading a photo 7 times to the guide"
   ]
  },
  {
   "cell_type": "markdown",
   "id": "photographic-experiment",
   "metadata": {},
   "source": [
    "We can further extend our analysis to show the relationship between Photos Uploaded to the guide and the guide session"
   ]
  },
  {
   "cell_type": "code",
   "execution_count": null,
   "id": "round-marijuana",
   "metadata": {},
   "outputs": [],
   "source": [
    "# bivariate plot of photos uploaded vs. guide session\n",
    "plt.figure(figsize = [12, 10])\n",
    "base_color = sb.color_palette()[0]\n",
    "plt.scatter(data = df_master , y = 'GuideSession' , x = 'PhotoUpload')\n",
    "plt.title('Relationship between Guide Session and Photo Upload')\n",
    "plt.xticks(rotation='vertical')\n",
    "plt.ylabel('Guide Session')\n",
    "plt.xlabel('Photo Upload')"
   ]
  },
  {
   "cell_type": "markdown",
   "id": "dominant-access",
   "metadata": {},
   "source": [
    "The plot suggests that users who upload the most photos, open up the guide the longest on their phones"
   ]
  },
  {
   "cell_type": "markdown",
   "id": "stock-cornwall",
   "metadata": {},
   "source": [
    "Lastly, I would like to explore how PhotoUpload relates to Guide Download. In the previous plots we saw that users that upload the most photos use the guide often so do these users also download the guide often"
   ]
  },
  {
   "cell_type": "code",
   "execution_count": null,
   "id": "upper-genius",
   "metadata": {},
   "outputs": [],
   "source": [
    "plt.figure(figsize = [12, 10])\n",
    "bins_x = np.arange(0.5, 10.5+1, 1)\n",
    "bins_y = np.arange(-0.5, 10.5+1, 1)\n",
    "plt.hist2d(data = df_master, y = 'GuideDownload', x = 'PhotoUpload',\n",
    "           bins = [bins_x, bins_y], cmap = 'viridis_r', cmin = 0.5)\n",
    "plt.colorbar()\n",
    "plt.ylabel('GuideDownload')\n",
    "plt.xlabel('PhotoUpload')\n",
    "plt.title('Relationship between Guide Download and Photo Upload')"
   ]
  },
  {
   "cell_type": "markdown",
   "id": "english-debut",
   "metadata": {},
   "source": [
    "The plot suggests that guide downloads are pretty low for users who upload the most photos."
   ]
  },
  {
   "cell_type": "markdown",
   "id": "mineral-second",
   "metadata": {},
   "source": [
    "### Conclusion"
   ]
  },
  {
   "cell_type": "markdown",
   "id": "aboriginal-victorian",
   "metadata": {},
   "source": [
    "The highest majority of guide users upload at least 7 photos to the guide. The data also suggested that users who uploading more photos open the guide the most. However, this number did not match for people who download the guide. \n",
    "There should be another factor affecting guide downloads and we can't just rely on photouploads."
   ]
  }
 ],
 "metadata": {
  "kernelspec": {
   "display_name": "Python 3",
   "language": "python",
   "name": "python3"
  },
  "language_info": {
   "codemirror_mode": {
    "name": "ipython",
    "version": 3
   },
   "file_extension": ".py",
   "mimetype": "text/x-python",
   "name": "python",
   "nbconvert_exporter": "python",
   "pygments_lexer": "ipython3",
   "version": "3.7.7"
  }
 },
 "nbformat": 4,
 "nbformat_minor": 5
}
